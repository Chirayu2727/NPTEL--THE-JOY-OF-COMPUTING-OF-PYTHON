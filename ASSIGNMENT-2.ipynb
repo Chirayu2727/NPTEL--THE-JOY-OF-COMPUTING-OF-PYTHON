{
 "cells": [
  {
   "cell_type": "code",
   "execution_count": 1,
   "id": "6b20fd84",
   "metadata": {},
   "outputs": [],
   "source": [
    "#----------------------------------------- ---ASSIGNMENT-2-----------------------------------------------------------------------\n",
    "\n",
    "#q1 which of the following is a high-level programming language?\n",
    "#ans----->python"
   ]
  },
  {
   "cell_type": "code",
   "execution_count": 2,
   "id": "ba06231c",
   "metadata": {},
   "outputs": [],
   "source": [
    "#Q2WHICH OF the following is an example of a front-end programming language?\n",
    "#ans------------>HTML"
   ]
  },
  {
   "cell_type": "code",
   "execution_count": 3,
   "id": "4be76284",
   "metadata": {},
   "outputs": [],
   "source": [
    "#Q3 WHIch is the following is used to store data in a programming language?\n",
    "#ans3----------->variables & array"
   ]
  },
  {
   "cell_type": "code",
   "execution_count": 5,
   "id": "b2258cf0",
   "metadata": {},
   "outputs": [
    {
     "name": "stdout",
     "output_type": "stream",
     "text": [
      "the joy of computing\n"
     ]
    }
   ],
   "source": [
    "#q4\n",
    "# ans4----------------->\n",
    "print('the joy of computing')"
   ]
  },
  {
   "cell_type": "code",
   "execution_count": 9,
   "id": "024f7343",
   "metadata": {},
   "outputs": [
    {
     "name": "stdout",
     "output_type": "stream",
     "text": [
      "0\n",
      "1\n",
      "2\n",
      "3\n",
      "4\n",
      "5\n",
      "6\n",
      "7\n",
      "8\n",
      "9\n",
      "10\n"
     ]
    }
   ],
   "source": [
    "#q5\n",
    "#ans--->11\n",
    "for i in range(11):\n",
    " print(i)"
   ]
  },
  {
   "cell_type": "code",
   "execution_count": 11,
   "id": "4ce0c173",
   "metadata": {},
   "outputs": [
    {
     "ename": "SyntaxError",
     "evalue": "incomplete input (1143114102.py, line 3)",
     "output_type": "error",
     "traceback": [
      "\u001b[1;36m  Cell \u001b[1;32mIn[11], line 3\u001b[1;36m\u001b[0m\n\u001b[1;33m    def function_name():\u001b[0m\n\u001b[1;37m                        ^\u001b[0m\n\u001b[1;31mSyntaxError\u001b[0m\u001b[1;31m:\u001b[0m incomplete input\n"
     ]
    }
   ],
   "source": [
    "#q6\n",
    "ans-----> def\n"
   ]
  },
  {
   "cell_type": "code",
   "execution_count": 15,
   "id": "4b7a4293",
   "metadata": {},
   "outputs": [
    {
     "name": "stdout",
     "output_type": "stream",
     "text": [
      "0\n",
      "1\n",
      "3\n",
      "6\n",
      "10\n",
      "15\n",
      "21\n",
      "28\n",
      "36\n",
      "45\n"
     ]
    }
   ],
   "source": [
    "#q7\n",
    "# ans----->b=45\n",
    "b=0\n",
    "for i in range(10):\n",
    "    b=b+i\n",
    "    \n",
    "    print(b)"
   ]
  },
  {
   "cell_type": "code",
   "execution_count": 17,
   "id": "d435b072",
   "metadata": {},
   "outputs": [
    {
     "name": "stdout",
     "output_type": "stream",
     "text": [
      "91125\n"
     ]
    }
   ],
   "source": [
    "#q8\n",
    "\n",
    "#c=b**3\n",
    "#ans------> it will throw an error\n",
    "c=b**3\n",
    "print(c)"
   ]
  },
  {
   "cell_type": "code",
   "execution_count": 20,
   "id": "e00a30b3",
   "metadata": {},
   "outputs": [
    {
     "name": "stdout",
     "output_type": "stream",
     "text": [
      "enter number:30\n",
      "3030\n"
     ]
    }
   ],
   "source": [
    "#q9\n",
    "\n",
    "\n",
    "#ans-------->3030\n",
    "number=input(\"enter number:\")\n",
    "new_number=number*2\n",
    "print(new_number)"
   ]
  },
  {
   "cell_type": "code",
   "execution_count": 19,
   "id": "dbb300f8",
   "metadata": {},
   "outputs": [
    {
     "name": "stdout",
     "output_type": "stream",
     "text": [
      "False\n"
     ]
    }
   ],
   "source": [
    "#q10\n",
    "#ans-------->false\n",
    "a=3\n",
    "b=4\n",
    "c=a>b\n",
    "print(c)"
   ]
  },
  {
   "cell_type": "code",
   "execution_count": null,
   "id": "67f25a3a",
   "metadata": {},
   "outputs": [],
   "source": [
    "#you will passed the assignment criteria with flying colors\n",
    "#--------------------------------------------------------------\n",
    "# https://github.com/Chirayu2727\n",
    "#stay tunned for assignment -3"
   ]
  }
 ],
 "metadata": {
  "kernelspec": {
   "display_name": "Python 3 (ipykernel)",
   "language": "python",
   "name": "python3"
  },
  "language_info": {
   "codemirror_mode": {
    "name": "ipython",
    "version": 3
   },
   "file_extension": ".py",
   "mimetype": "text/x-python",
   "name": "python",
   "nbconvert_exporter": "python",
   "pygments_lexer": "ipython3",
   "version": "3.11.3"
  }
 },
 "nbformat": 4,
 "nbformat_minor": 5
}
