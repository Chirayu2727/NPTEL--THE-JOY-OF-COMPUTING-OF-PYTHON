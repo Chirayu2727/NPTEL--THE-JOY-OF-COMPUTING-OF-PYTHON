{
  "nbformat": 4,
  "nbformat_minor": 0,
  "metadata": {
    "colab": {
      "provenance": []
    },
    "kernelspec": {
      "name": "python3",
      "display_name": "Python 3"
    },
    "language_info": {
      "name": "python"
    }
  },
  "cells": [
    {
      "cell_type": "code",
      "execution_count": 1,
      "metadata": {
        "id": "ke1B1La0vF0w"
      },
      "outputs": [],
      "source": [
        "# Q.1 What is a magic square?\n",
        "#ANS->A square grid of numbers where the sum of the rows, columns, & diagonals are equal\n"
      ]
    },
    {
      "cell_type": "code",
      "source": [
        "#Q.2 In a 3x3 magic square, what is the magic constant?\n",
        "#ANS--> 15"
      ],
      "metadata": {
        "id": "jh1ZN26AvVSK"
      },
      "execution_count": 2,
      "outputs": []
    },
    {
      "cell_type": "code",
      "source": [
        "#Q.3Which of the following is NOT a property of a magic square?\n",
        "#ANS-->The sum of each individual element is equal\n"
      ],
      "metadata": {
        "id": "vjN1Hk1OviWH"
      },
      "execution_count": 3,
      "outputs": []
    },
    {
      "cell_type": "code",
      "source": [
        "#Q.4\n",
        "import random\n",
        "import string\n",
        "A=string.ascii_letters\n",
        "n=int(input())\n",
        "for i in range(n):\n",
        "        ls=[]\n",
        "for j in range(n):\n",
        "\n",
        "         ls.append(random.choice(A))\n",
        "for element in ls:\n",
        "        print(element,end=\"/t\")"
      ],
      "metadata": {
        "colab": {
          "base_uri": "https://localhost:8080/"
        },
        "id": "zPQdmg6Vvsgj",
        "outputId": "c8240d90-b88f-4efe-f173-87ada57d2c08"
      },
      "execution_count": 21,
      "outputs": [
        {
          "output_type": "stream",
          "name": "stdout",
          "text": [
            "55\n",
            "W/tc/tL/tc/ti/tz/tr/tf/tK/tU/tI/tV/tl/tY/tb/tA/ty/tS/ty/tU/tX/tH/to/tw/tv/tz/tl/tL/tB/tm/tt/tY/ts/tY/tz/tD/tz/tl/tt/tO/tA/tM/tt/tY/tQ/tM/tc/tS/tG/tY/tg/tU/tj/tN/tN/t"
          ]
        }
      ]
    },
    {
      "cell_type": "code",
      "source": [
        "#Q.5\n",
        "\n",
        "import random\n",
        "l=[]\n",
        "for i in range(n):\n",
        "      l.append(random.randint(1,10))\n",
        "l.sort()\n",
        "l.reverse()\n",
        "\n",
        "print(l)\n",
        "#Sorted List(L) containing random elements between 0-10 in descending order"
      ],
      "metadata": {
        "colab": {
          "base_uri": "https://localhost:8080/"
        },
        "id": "fEcBCnb6v-db",
        "outputId": "aa8b5c2d-7a47-4ac0-c53d-f0f9095ac9f5"
      },
      "execution_count": 25,
      "outputs": [
        {
          "output_type": "stream",
          "name": "stdout",
          "text": [
            "[10, 10, 9, 9, 9, 9, 9, 9, 9, 8, 8, 8, 7, 7, 7, 7, 7, 7, 7, 7, 6, 6, 6, 6, 6, 6, 5, 5, 5, 5, 5, 4, 4, 4, 4, 4, 3, 3, 3, 3, 3, 3, 2, 2, 2, 2, 2, 2, 1, 1, 1, 1, 1, 1, 1]\n"
          ]
        }
      ]
    },
    {
      "cell_type": "code",
      "source": [
        "#q.6\n",
        "\n",
        "for i in range(2,101):\n",
        "    flag=0\n",
        "    for j in range(2, 101):\n",
        "       if(i%j == 0):\n",
        "         flag=1\n",
        "         break\n",
        "    if(flag == 0):\n",
        "       print(i)\n",
        "       #"
      ],
      "metadata": {
        "id": "EZpxgRjdyH8f"
      },
      "execution_count": 34,
      "outputs": []
    },
    {
      "cell_type": "code",
      "source": [
        "# Q.7 In the birthday paradox, as the number of people in a group increases, what happens to the probability that two people share a birthday?\n",
        "#ans--> It increases"
      ],
      "metadata": {
        "id": "cfZuWJz0yupw"
      },
      "execution_count": 36,
      "outputs": []
    },
    {
      "cell_type": "code",
      "source": [
        "#Q.8Which module is used to generate random numbers in Python?\n",
        "#ANS.. random"
      ],
      "metadata": {
        "id": "ZNphUW6_zfdI"
      },
      "execution_count": 37,
      "outputs": []
    },
    {
      "cell_type": "code",
      "source": [
        "#q.9 Which function is used to shuffle a list in Python?\n",
        "#ANS-->SHUFFLE()"
      ],
      "metadata": {
        "id": "7CGjYzQLztNR"
      },
      "execution_count": 40,
      "outputs": []
    },
    {
      "cell_type": "code",
      "source": [
        "#Q.10\n",
        "import random\n",
        "\n",
        "nums = [1, 2, 3, 4, 5]\n",
        "random.shuffle(nums)\n",
        "print(nums)\n",
        "'''Answers :A random ordering of the numbers 1 through 5'''"
      ],
      "metadata": {
        "colab": {
          "base_uri": "https://localhost:8080/",
          "height": 53
        },
        "id": "5zLCmhA00BD_",
        "outputId": "be551bbd-bb04-4379-f20b-2ee531135678"
      },
      "execution_count": 44,
      "outputs": [
        {
          "output_type": "stream",
          "name": "stdout",
          "text": [
            "[4, 5, 3, 2, 1]\n"
          ]
        },
        {
          "output_type": "execute_result",
          "data": {
            "text/plain": [
              "'Answers :A random ordering of the numbers 1 through 5'"
            ],
            "application/vnd.google.colaboratory.intrinsic+json": {
              "type": "string"
            }
          },
          "metadata": {},
          "execution_count": 44
        }
      ]
    },
    {
      "cell_type": "code",
      "source": [],
      "metadata": {
        "id": "bVx0Qf890Q6H"
      },
      "execution_count": null,
      "outputs": []
    }
  ]
}