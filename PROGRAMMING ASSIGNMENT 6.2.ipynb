{
 "cells": [
  {
   "cell_type": "code",
   "execution_count": 2,
   "id": "0f32050b",
   "metadata": {},
   "outputs": [
    {
     "name": "stdout",
     "output_type": "stream",
     "text": [
      "Hello Juliet\n",
      "Ecjjm Gsjgcr"
     ]
    }
   ],
   "source": [
    "S = input()\n",
    "Cap1=list(\"ABCDEFGHIJKLMNOPQRSTUVMWXYZ\")\n",
    "Small=list('abcdefghijklmnopqrstuvwxyz')\n",
    "ans=\"\"\n",
    "for a in S:\n",
    "  if a=='a':\n",
    "    ans+='y'\n",
    "  elif a=='b':\n",
    "    ans+='z'\n",
    "  elif a=='A':\n",
    "    ans+='X' \n",
    "  elif a=='B':\n",
    "    ans+='Y'\n",
    "  elif a=='C':\n",
    "    ans+='Z'\n",
    "  elif a=='W':\n",
    "    ans+='T'\n",
    "  else:\n",
    "    if a in Cap1:\n",
    "      ans+=Cap1[Cap1.index(a)-3]\n",
    "    elif a in Small:\n",
    "      ans+=Small[Small.index(a)-2]\n",
    "    else:\n",
    "      ans+=a\n",
    "print(ans,end=\"\")"
   ]
  },
  {
   "cell_type": "code",
   "execution_count": null,
   "id": "7c4b1484",
   "metadata": {},
   "outputs": [],
   "source": []
  }
 ],
 "metadata": {
  "kernelspec": {
   "display_name": "Python 3 (ipykernel)",
   "language": "python",
   "name": "python3"
  },
  "language_info": {
   "codemirror_mode": {
    "name": "ipython",
    "version": 3
   },
   "file_extension": ".py",
   "mimetype": "text/x-python",
   "name": "python",
   "nbconvert_exporter": "python",
   "pygments_lexer": "ipython3",
   "version": "3.11.3"
  }
 },
 "nbformat": 4,
 "nbformat_minor": 5
}
