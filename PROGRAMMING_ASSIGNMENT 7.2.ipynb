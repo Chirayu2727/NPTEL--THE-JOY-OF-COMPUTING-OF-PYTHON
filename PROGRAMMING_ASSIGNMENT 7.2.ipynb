{
  "nbformat": 4,
  "nbformat_minor": 0,
  "metadata": {
    "colab": {
      "provenance": []
    },
    "kernelspec": {
      "name": "python3",
      "display_name": "Python 3"
    },
    "language_info": {
      "name": "python"
    }
  },
  "cells": [
    {
      "cell_type": "code",
      "execution_count": 2,
      "metadata": {
        "colab": {
          "base_uri": "https://localhost:8080/"
        },
        "id": "SSfTboDFcEYW",
        "outputId": "d208e8be-55db-48e3-f82d-df75ce683920"
      },
      "outputs": [
        {
          "output_type": "stream",
          "name": "stdout",
          "text": [
            "2\n",
            "3\n",
            "4\n",
            "[[3, 4]]\n"
          ]
        }
      ],
      "source": [
        "\n",
        "import numpy\n",
        "from array import *\n",
        "def Transpose(M):\n",
        "    arrays = numpy.array(M)\n",
        "    num_list = arrays.transpose().tolist()\n",
        "    return(num_list)\n",
        "n = int(input())\n",
        "M = []\n",
        "for i in range(n):\n",
        "    L = list(map(int, input().split()))\n",
        "    M.append(L)\n",
        "print(Transpose(M))"
      ]
    },
    {
      "cell_type": "code",
      "source": [],
      "metadata": {
        "id": "zOG_lTtIcK3e"
      },
      "execution_count": null,
      "outputs": []
    }
  ]
}