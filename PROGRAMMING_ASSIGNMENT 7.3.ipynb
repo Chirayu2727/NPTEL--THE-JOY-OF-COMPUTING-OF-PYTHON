{
  "nbformat": 4,
  "nbformat_minor": 0,
  "metadata": {
    "colab": {
      "provenance": []
    },
    "kernelspec": {
      "name": "python3",
      "display_name": "Python 3"
    },
    "language_info": {
      "name": "python"
    }
  },
  "cells": [
    {
      "cell_type": "code",
      "execution_count": 2,
      "metadata": {
        "colab": {
          "base_uri": "https://localhost:8080/"
        },
        "id": "UWQaEBQbcqp4",
        "outputId": "a69c1159-8e9f-4bbd-d857-b111143c5be4"
      },
      "outputs": [
        {
          "output_type": "stream",
          "name": "stdout",
          "text": [
            "1\n",
            "82\n",
            "[82]\n"
          ]
        }
      ],
      "source": [
        "def snake(M):\n",
        "  sk=0\n",
        "  sm=[]\n",
        "  for r in M:\n",
        "    m=[]\n",
        "    sk=sk+1\n",
        "    if sk%2==0:\n",
        "      m=r[::-1]\n",
        "    else:\n",
        "      m=r\n",
        "    sm+=m\n",
        "  return(sm)\n",
        "n = int(input())\n",
        "M = []\n",
        "for i in range(n):\n",
        "    L = list(map(int, input().split()))\n",
        "    M.append(L)\n",
        "\n",
        "print(snake(M))"
      ]
    },
    {
      "cell_type": "code",
      "source": [],
      "metadata": {
        "id": "djF80Pzlc3CK"
      },
      "execution_count": null,
      "outputs": []
    }
  ]
}