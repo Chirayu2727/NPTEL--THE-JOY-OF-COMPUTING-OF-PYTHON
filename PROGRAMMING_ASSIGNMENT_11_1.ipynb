{
  "nbformat": 4,
  "nbformat_minor": 0,
  "metadata": {
    "colab": {
      "provenance": []
    },
    "kernelspec": {
      "name": "python3",
      "display_name": "Python 3"
    },
    "language_info": {
      "name": "python"
    }
  },
  "cells": [
    {
      "cell_type": "code",
      "execution_count": null,
      "metadata": {
        "id": "_4Bopig8jZeQ"
      },
      "outputs": [],
      "source": [
        "def is_right_angled_triangle(a, b, c):\n",
        "    # Sort the sides in ascending order\n",
        "    sides = [a, b, c]\n",
        "    sides.sort()\n",
        "\n",
        "    # Check if it's a right-angled triangle using the Pythagorean theorem\n",
        "    if sides[0] **2 + sides[1] ** 2 == sides[2] ** 2:\n",
        "        return 'YES'  # It's a right-angled triangle\n",
        "    else:\n",
        "        return \"NO\"   # It's not a right-angled triangle\n",
        "\n",
        "# Input the sides of the triangle\n",
        "a = float(input())\n",
        "b = float(input())\n",
        "c = float(input())\n",
        "\n",
        "result = is_right_angled_triangle(a, b, c)\n",
        "print(result)"
      ]
    },
    {
      "cell_type": "code",
      "source": [],
      "metadata": {
        "id": "Pse9XpOQjg6i"
      },
      "execution_count": null,
      "outputs": []
    }
  ]
}