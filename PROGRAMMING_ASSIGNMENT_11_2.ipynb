{
  "nbformat": 4,
  "nbformat_minor": 0,
  "metadata": {
    "colab": {
      "provenance": []
    },
    "kernelspec": {
      "name": "python3",
      "display_name": "Python 3"
    },
    "language_info": {
      "name": "python"
    }
  },
  "cells": [
    {
      "cell_type": "code",
      "execution_count": null,
      "metadata": {
        "id": "wEzsVSbVkW69"
      },
      "outputs": [],
      "source": [
        "# Input a hash-separated sequence of words\n",
        "input_sequence = input()\n",
        "\n",
        "# Split the input into words using '#' as the separator\n",
        "words = input_sequence.split('#')\n",
        "\n",
        "# Sort the words in reverse alphabetical order\n",
        "sorted_words = sorted(words, reverse=True)\n",
        "\n",
        "# Join the sorted words back together with '#' as the separator\n",
        "output_sequence = '#'.join(sorted_words)\n",
        "\n",
        "# Print the sorted sequence\n",
        "print(output_sequence)"
      ]
    },
    {
      "cell_type": "code",
      "source": [],
      "metadata": {
        "id": "ICLlycmWkYJ9"
      },
      "execution_count": null,
      "outputs": []
    }
  ]
}