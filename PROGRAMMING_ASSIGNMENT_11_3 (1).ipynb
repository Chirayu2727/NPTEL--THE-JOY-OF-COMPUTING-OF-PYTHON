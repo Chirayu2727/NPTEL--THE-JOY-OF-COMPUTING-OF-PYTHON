{
  "nbformat": 4,
  "nbformat_minor": 0,
  "metadata": {
    "colab": {
      "provenance": []
    },
    "kernelspec": {
      "name": "python3",
      "display_name": "Python 3"
    },
    "language_info": {
      "name": "python"
    }
  },
  "cells": [
    {
      "cell_type": "code",
      "execution_count": null,
      "metadata": {
        "id": "ENftgs3mksqw"
      },
      "outputs": [],
      "source": [
        "# Function to check if a number is composite\n",
        "def is_composite(number):\n",
        "    if number <= 1:\n",
        "        return False\n",
        "    for i in range(2, int(number ** 0.5) + 1):\n",
        "        if number % i == 0:\n",
        "            return True\n",
        "    return False\n",
        "\n",
        "# Input two integers a and b\n",
        "a = int(input())\n",
        "b = int(input())\n",
        "\n",
        "# Ensure a is not greater than b\n",
        "if a > b:\n",
        "    a, b = b, a\n",
        "\n",
        "# Print composite numbers between a and b (inclusive)\n",
        "print(\"\".format(a, b))\n",
        "for number in range(a, b + 1):\n",
        "    if is_composite(number):\n",
        "        print(number)"
      ]
    }
  ]
}