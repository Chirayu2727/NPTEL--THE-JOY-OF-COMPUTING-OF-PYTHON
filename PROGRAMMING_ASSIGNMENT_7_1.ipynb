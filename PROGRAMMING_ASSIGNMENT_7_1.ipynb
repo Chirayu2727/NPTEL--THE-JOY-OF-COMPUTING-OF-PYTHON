{
  "nbformat": 4,
  "nbformat_minor": 0,
  "metadata": {
    "colab": {
      "provenance": []
    },
    "kernelspec": {
      "name": "python3",
      "display_name": "Python 3"
    },
    "language_info": {
      "name": "python"
    }
  },
  "cells": [
    {
      "cell_type": "code",
      "execution_count": 1,
      "metadata": {
        "id": "rQCU6Kg5ZuR4"
      },
      "outputs": [],
      "source": [
        "def DiagCalc(L):\n",
        "  L_sum=0\n",
        "  R_sum=0\n",
        "  m=L[::-1]\n",
        "  for i in range(len(L)):\n",
        "    for y in range(len(L)):\n",
        "      if i==y:\n",
        "        L_sum+=L[i][y]\n",
        "        R_sum+=m[i][y]\n",
        "  print(L_sum)\n",
        "  print(R_sum,end=\"\")"
      ]
    },
    {
      "cell_type": "code",
      "source": [
        "n = int(input())\n",
        "M = []\n",
        "for i in range(n):\n",
        "    L = list(map(int, input().split()))\n",
        "    M.append(L)\n",
        "\n",
        "DiagCalc(M)"
      ],
      "metadata": {
        "id": "VeIUjrUqbh9W"
      },
      "execution_count": null,
      "outputs": []
    },
    {
      "cell_type": "code",
      "source": [],
      "metadata": {
        "id": "-nRjYWxXbnAT"
      },
      "execution_count": 3,
      "outputs": []
    }
  ]
}