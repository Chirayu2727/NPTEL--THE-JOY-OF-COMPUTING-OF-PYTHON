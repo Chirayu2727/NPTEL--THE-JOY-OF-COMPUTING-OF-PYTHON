{
  "nbformat": 4,
  "nbformat_minor": 0,
  "metadata": {
    "colab": {
      "provenance": []
    },
    "kernelspec": {
      "name": "python3",
      "display_name": "Python 3"
    },
    "language_info": {
      "name": "python"
    }
  },
  "cells": [
    {
      "cell_type": "code",
      "execution_count": 1,
      "metadata": {
        "id": "GHuob2FUBXN7"
      },
      "outputs": [],
      "source": [
        "def subStr(s1, s2):\n",
        "    len_s1 = len(s1)\n",
        "    len_s2 = len(s2)\n",
        "\n",
        "    for i in range(len_s1 - len_s2 + 1):\n",
        "        if s1[i:i+len_s2] == s2:\n",
        "            return True\n",
        "\n",
        "    return False"
      ]
    },
    {
      "cell_type": "code",
      "source": [],
      "metadata": {
        "id": "uxjwhYZ7BlMb"
      },
      "execution_count": null,
      "outputs": []
    }
  ]
}