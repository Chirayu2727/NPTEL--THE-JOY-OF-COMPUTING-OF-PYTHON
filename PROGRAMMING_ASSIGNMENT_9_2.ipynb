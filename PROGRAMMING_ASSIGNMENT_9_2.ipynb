{
  "nbformat": 4,
  "nbformat_minor": 0,
  "metadata": {
    "colab": {
      "provenance": []
    },
    "kernelspec": {
      "name": "python3",
      "display_name": "Python 3"
    },
    "language_info": {
      "name": "python"
    }
  },
  "cells": [
    {
      "cell_type": "code",
      "execution_count": null,
      "metadata": {
        "id": "kuVXc66MCHkJ"
      },
      "outputs": [],
      "source": [
        "def mergeDic(d1, d2):\n",
        "    result = {}\n",
        "\n",
        "    # Add elements from d1 to the result dictionary\n",
        "    for key, value in d1.items():\n",
        "        result[key] = value\n",
        "\n",
        "    # Add elements from d2 to the result dictionary, skipping duplicates from d1\n",
        "    for key, value in d2.items():\n",
        "        if key not in result:\n",
        "            result[key] = value\n",
        "\n",
        "    return result"
      ]
    },
    {
      "cell_type": "code",
      "source": [],
      "metadata": {
        "id": "65Z0H0f6CLo8"
      },
      "execution_count": null,
      "outputs": []
    }
  ]
}