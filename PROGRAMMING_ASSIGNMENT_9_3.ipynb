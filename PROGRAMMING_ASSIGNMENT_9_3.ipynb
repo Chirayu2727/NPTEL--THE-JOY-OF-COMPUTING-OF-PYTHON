{
  "nbformat": 4,
  "nbformat_minor": 0,
  "metadata": {
    "colab": {
      "provenance": []
    },
    "kernelspec": {
      "name": "python3",
      "display_name": "Python 3"
    },
    "language_info": {
      "name": "python"
    }
  },
  "cells": [
    {
      "cell_type": "code",
      "source": [
        "n=str(n)\n",
        "d={}\n",
        "for i in range(len(n)):\n",
        "  if n[i] not in d.keys():\n",
        "    d[n[i]]=[i]\n",
        "  else:\n",
        "    d[n[i]].append(i)\n",
        "\n",
        "for key, value in d.items():\n",
        "  print(key, end= ' ')\n",
        "  for i in value:\n",
        "    print(i, end= ' ')\n",
        "  print()"
      ],
      "metadata": {
        "id": "3BctSlfUCY3m"
      },
      "execution_count": null,
      "outputs": []
    }
  ]
}