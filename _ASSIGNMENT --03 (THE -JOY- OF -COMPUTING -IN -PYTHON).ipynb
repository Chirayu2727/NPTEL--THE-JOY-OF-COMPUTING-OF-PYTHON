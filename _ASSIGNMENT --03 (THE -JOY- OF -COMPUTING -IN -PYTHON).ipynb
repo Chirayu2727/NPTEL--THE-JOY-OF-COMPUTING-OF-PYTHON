{
 "cells": [
  {
   "cell_type": "code",
   "execution_count": 1,
   "id": "39b6581d",
   "metadata": {},
   "outputs": [
    {
     "name": "stdout",
     "output_type": "stream",
     "text": [
      "['c', 'd', 'e']\n"
     ]
    }
   ],
   "source": [
    "# q1-->\n",
    "\n",
    "l=[\"a\",\"b\",\"c\",\"d\",\"e\",\"f\",\"g\",\"h\"]\n",
    "print(l[2:5])\n",
    "#ans --> c d e"
   ]
  },
  {
   "cell_type": "code",
   "execution_count": 4,
   "id": "887047a7",
   "metadata": {},
   "outputs": [
    {
     "name": "stdout",
     "output_type": "stream",
     "text": [
      "{1: 'one', 2: 'two', 3: 'three'}\n"
     ]
    }
   ],
   "source": [
    "#q2\n",
    " #ans---->\n",
    "d={1:\"one\",2:\"two\",3:\"three\"}\n",
    "print(d)"
   ]
  },
  {
   "cell_type": "code",
   "execution_count": null,
   "id": "0c73892e",
   "metadata": {},
   "outputs": [],
   "source": [
    "#q3\n",
    "#insert() used for specific index\n",
    "#append() will add at the end of list\n",
    "ans---> insert()"
   ]
  },
  {
   "cell_type": "code",
   "execution_count": 6,
   "id": "c8bd9b04",
   "metadata": {},
   "outputs": [
    {
     "name": "stdout",
     "output_type": "stream",
     "text": [
      "['a', 'b', 'c', 'd', 'e', 'f', 'g', 'h', 's']\n"
     ]
    }
   ],
   "source": [
    "#q4\n",
    " # to add something at the end we use append()\n",
    "    \n",
    "l.append(\"s\")\n",
    "print(l)"
   ]
  },
  {
   "cell_type": "code",
   "execution_count": null,
   "id": "e4aef342",
   "metadata": {},
   "outputs": [],
   "source": [
    "#q5 \n",
    "\n",
    "ans---> char\n"
   ]
  },
  {
   "cell_type": "code",
   "execution_count": 8,
   "id": "33be12a0",
   "metadata": {},
   "outputs": [
    {
     "name": "stdout",
     "output_type": "stream",
     "text": [
      "1\n",
      "2\n",
      "fizz\n",
      "4\n",
      "buzz\n",
      "fizz\n",
      "7\n",
      "8\n",
      "fizz\n",
      "buzz\n",
      "11\n",
      "fizz\n",
      "13\n",
      "14\n",
      "fizzbuss\n",
      "16\n",
      "17\n",
      "fizz\n",
      "19\n",
      "buzz\n"
     ]
    }
   ],
   "source": [
    "#q6\n",
    "for i in range(1,21):\n",
    "        if i%3==0 and i%5==0:\n",
    "            print(\"fizzbuss\")\n",
    "        elif i%3==0:\n",
    "            print(\"fizz\")\n",
    "        elif i%5==0:\n",
    "            print(\"buzz\")\n",
    "        else:\n",
    "            print(i)\n",
    "            # ans--> print fizz for multiple of 3 and buzz for multiple of 5"
   ]
  },
  {
   "cell_type": "code",
   "execution_count": 9,
   "id": "73c1da9a",
   "metadata": {},
   "outputs": [
    {
     "name": "stdout",
     "output_type": "stream",
     "text": [
      "2\n"
     ]
    }
   ],
   "source": [
    "#q7\n",
    "a=5\n",
    "b=2\n",
    "print(a//b)\n",
    "ans--> 2"
   ]
  },
  {
   "cell_type": "code",
   "execution_count": 11,
   "id": "94361fc9",
   "metadata": {},
   "outputs": [
    {
     "name": "stdout",
     "output_type": "stream",
     "text": [
      "olleh\n",
      "hell\n"
     ]
    }
   ],
   "source": [
    "#q8\n",
    "s=\"hello\"\n",
    "print(s[::-1])  # this is the right answer \n",
    "print(s[:-1])\n"
   ]
  },
  {
   "cell_type": "code",
   "execution_count": 12,
   "id": "b9e3427f",
   "metadata": {},
   "outputs": [
    {
     "name": "stdout",
     "output_type": "stream",
     "text": [
      "0\n"
     ]
    }
   ],
   "source": [
    "#q9\n",
    "a=10\n",
    "b=5\n",
    "c=a%b \n",
    "print(c)\n",
    "#ans--> 0"
   ]
  },
  {
   "cell_type": "code",
   "execution_count": 13,
   "id": "518bae8a",
   "metadata": {},
   "outputs": [
    {
     "name": "stdout",
     "output_type": "stream",
     "text": [
      "yth\n"
     ]
    }
   ],
   "source": [
    "#Q10\n",
    "s=\"python\"\n",
    "print(s[1:4])\n",
    "#ans---->\"yth\""
   ]
  },
  {
   "cell_type": "code",
   "execution_count": null,
   "id": "cfd2f731",
   "metadata": {},
   "outputs": [],
   "source": []
  }
 ],
 "metadata": {
  "kernelspec": {
   "display_name": "Python 3 (ipykernel)",
   "language": "python",
   "name": "python3"
  },
  "language_info": {
   "codemirror_mode": {
    "name": "ipython",
    "version": 3
   },
   "file_extension": ".py",
   "mimetype": "text/x-python",
   "name": "python",
   "nbconvert_exporter": "python",
   "pygments_lexer": "ipython3",
   "version": "3.11.3"
  }
 },
 "nbformat": 4,
 "nbformat_minor": 5
}
