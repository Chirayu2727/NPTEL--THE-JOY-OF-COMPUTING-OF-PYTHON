{
 "cells": [
  {
   "cell_type": "code",
   "execution_count": 1,
   "id": "588e4ff7",
   "metadata": {},
   "outputs": [],
   "source": [
    "def uniqueE(L):\n",
    "  ans=list()\n",
    "  for a in L:\n",
    "    if L.count(a)==1:\n",
    "      ans.append(a)\n",
    "  return(sorted(ans))"
   ]
  },
  {
   "cell_type": "code",
   "execution_count": null,
   "id": "97bc3e9c",
   "metadata": {},
   "outputs": [],
   "source": []
  }
 ],
 "metadata": {
  "kernelspec": {
   "display_name": "Python 3 (ipykernel)",
   "language": "python",
   "name": "python3"
  },
  "language_info": {
   "codemirror_mode": {
    "name": "ipython",
    "version": 3
   },
   "file_extension": ".py",
   "mimetype": "text/x-python",
   "name": "python",
   "nbconvert_exporter": "python",
   "pygments_lexer": "ipython3",
   "version": "3.11.3"
  }
 },
 "nbformat": 4,
 "nbformat_minor": 5
}
