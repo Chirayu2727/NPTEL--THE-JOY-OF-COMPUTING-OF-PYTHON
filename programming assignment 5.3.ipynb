{
 "cells": [
  {
   "cell_type": "code",
   "execution_count": 3,
   "id": "a01f48dc",
   "metadata": {},
   "outputs": [
    {
     "name": "stdout",
     "output_type": "stream",
     "text": [
      "1 2 3 4 5 6 7 8 9\n",
      "2"
     ]
    }
   ],
   "source": [
    "L = [int(i) for i in input().split()]\n",
    "prime=[2, 3, 5, 7, 11, 13, 17, 19, 23, 29, 31, 37, \n",
    "       41, 43, 47, 53, 59, 61, 67, 71, 73, 79, 83, 89,\n",
    "       97, 101, 103, 107, 109, 113, 127, 131, 137, 139,\n",
    "       149, 151, 157, 163, 167, 173, 179, 181, 191, 193, \n",
    "       197, 199, 211, 223, 227, 229, 233, 239, 241, 251, \n",
    "       257, 263, 269, 271, 277, 281, 283, 293, 307, 311]\n",
    "for j in L:\n",
    "  if j in prime:\n",
    "    print(j,end=\"\")\n",
    "    break"
   ]
  },
  {
   "cell_type": "code",
   "execution_count": null,
   "id": "ff4f5140",
   "metadata": {},
   "outputs": [],
   "source": []
  }
 ],
 "metadata": {
  "kernelspec": {
   "display_name": "Python 3 (ipykernel)",
   "language": "python",
   "name": "python3"
  },
  "language_info": {
   "codemirror_mode": {
    "name": "ipython",
    "version": 3
   },
   "file_extension": ".py",
   "mimetype": "text/x-python",
   "name": "python",
   "nbconvert_exporter": "python",
   "pygments_lexer": "ipython3",
   "version": "3.11.3"
  }
 },
 "nbformat": 4,
 "nbformat_minor": 5
}
